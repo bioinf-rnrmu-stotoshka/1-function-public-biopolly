{
  "nbformat": 4,
  "nbformat_minor": 0,
  "metadata": {
    "colab": {
      "provenance": []
    },
    "kernelspec": {
      "name": "python3",
      "display_name": "Python 3"
    },
    "language_info": {
      "name": "python"
    }
  },
  "cells": [
    {
      "cell_type": "code",
      "execution_count": null,
      "metadata": {
        "colab": {
          "base_uri": "https://localhost:8080/"
        },
        "id": "uw4OSSnKGoi9",
        "outputId": "d611beb6-0796-4d0c-b40a-6092b583d791"
      },
      "outputs": [
        {
          "output_type": "stream",
          "name": "stdout",
          "text": [
            "20 21 17 12\n"
          ]
        }
      ],
      "source": [
        "#count nucleotid\n",
        "def count_nucl(dna):\n",
        "\n",
        "  if not dna.isalpha():\n",
        "    return \"error\"\n",
        "  nuclA = dna.count('A')\n",
        "  nuclT = dna.count('T')\n",
        "  nuclG = dna.count('G')\n",
        "  nuclC = dna.count('C')\n",
        "\n",
        "  return f\"{nuclA} {nuclT} {nuclG} {nuclC}\"\n",
        "\n",
        "\n",
        "dna = \"AGCTTTTCATTCTGACTGCAACGGGCAATATGTCTCTGTGTGGATTAAAAAAAGAGTGTCTGATAGCAGC\"\n",
        "result= count_nucl(dna)\n",
        "print(result)"
      ]
    },
    {
      "cell_type": "code",
      "source": [
        "# dna to rna\n",
        "def transcript(dna):\n",
        "  if not dna.isalpha():\n",
        "    return \"error\"\n",
        "  rna = dna.replace('T', 'U')\n",
        "  return rna\n",
        "\n",
        "dna = \"GATGGAACTTGACTACGTAAATT\"\n",
        "rna = transcript(dna)\n",
        "print(rna)"
      ],
      "metadata": {
        "colab": {
          "base_uri": "https://localhost:8080/"
        },
        "id": "iC9V1txBRPtG",
        "outputId": "0116c651-f99a-4737-c902-feb94848df22"
      },
      "execution_count": null,
      "outputs": [
        {
          "output_type": "stream",
          "name": "stdout",
          "text": [
            "GAUGGAACUUGACUACGUAAAUU\n"
          ]
        }
      ]
    },
    {
      "cell_type": "code",
      "source": [
        "#anti rna\n",
        "def reverse_complement(dna):\n",
        "  if not dna.isalpha():\n",
        "      return \"error\"\n",
        "  complement = {'A': 'T', 'T': 'A', 'C': 'G', 'G': 'C'}\n",
        "  new_rev = dna[::-1]\n",
        "  new_rev_compl = ''.join(complement[nucl] for nucl in new_rev)\n",
        "  return new_rev_compl\n",
        "\n",
        "\n",
        "dna = \"AAAACCCGGT\"\n",
        "result = reverse_complement(dna)\n",
        "print(result)"
      ],
      "metadata": {
        "colab": {
          "base_uri": "https://localhost:8080/"
        },
        "id": "-C1wvFAZTxN6",
        "outputId": "e0b9412f-1283-43ee-c517-01a657734407"
      },
      "execution_count": null,
      "outputs": [
        {
          "output_type": "stream",
          "name": "stdout",
          "text": [
            "ACCGGGTTTT\n"
          ]
        }
      ]
    },
    {
      "cell_type": "code",
      "source": [
        "#rabbit pairs\n",
        "def rabbit_pairs(m, k):\n",
        "  # m mounth\n",
        "  # k pairs\n",
        "  rabbits = [1, 1] # list start\n",
        "  for i in range(2, m):\n",
        "    rabbits.append(rabbits[i-1] + k * rabbits[i-2]) #кролики прошлые + жившие 2 месяца назад - современные кролики\n",
        "  return rabbits[-1]\n",
        "\n",
        "\n",
        "print(rabbit_pairs(5, 3))"
      ],
      "metadata": {
        "colab": {
          "base_uri": "https://localhost:8080/"
        },
        "id": "Md7QMstwYrtr",
        "outputId": "b8d4facc-dab2-4769-8696-e19c59f418a5"
      },
      "execution_count": 21,
      "outputs": [
        {
          "output_type": "stream",
          "name": "stdout",
          "text": [
            "19\n"
          ]
        }
      ]
    },
    {
      "cell_type": "code",
      "source": [
        "#fibbonacci\n",
        "def fibonacci(n):\n",
        "  if n == 0:\n",
        "    return 0\n",
        "  elif n == 1:\n",
        "    return 1\n",
        "  else:\n",
        "    fib = [0, 1]  # fib[0] = 0, fib[1] = 1\n",
        "    for i in range(2, n + 1):\n",
        "      fib_n = fib[i-1] + fib[i-2] #fib\n",
        "      fib.append(fib_n)\n",
        "    return fib[-1]\n",
        "\n",
        "\n",
        "n = 6\n",
        "fib_number = fibonacci(n)\n",
        "print(fib_number)"
      ],
      "metadata": {
        "id": "UFAC1E21Yt9T",
        "colab": {
          "base_uri": "https://localhost:8080/"
        },
        "outputId": "a4727431-8055-4077-9147-beece5f28eb1"
      },
      "execution_count": null,
      "outputs": [
        {
          "output_type": "stream",
          "name": "stdout",
          "text": [
            "8\n"
          ]
        }
      ]
    },
    {
      "cell_type": "code",
      "source": [
        "#insertion sort\n",
        "def insertion(A):\n",
        "  swaps = 0\n",
        "  for i in range(1, len(A)):\n",
        "    k = A[i] # переменная для вставки\n",
        "    j = i - 1 #слева от k, индекс последнего элемента в отсортированной части\n",
        "    while j >= 0 and k < A[j]: #j не вышел из массива,  k ментше левого числа поэтому их меняем\n",
        "      A[j+1] = A[j] #сдвиг вправо\n",
        "      j -= 1\n",
        "      swaps += 1\n",
        "\n",
        "\n",
        "    A[j+1] = k #вставляем элемент в правильное место\n",
        "\n",
        "    print(f\"({k}:{A})\")\n",
        "    print(A)\n",
        "\n",
        "  return swaps\n",
        "n = 6 #кол-во\n",
        "A = [6, 10, 4, 5, 1, 2]\n",
        "results= insertion(A)\n",
        "print(results)\n"
      ],
      "metadata": {
        "id": "9si1JdOKZFEh",
        "colab": {
          "base_uri": "https://localhost:8080/"
        },
        "outputId": "1c5f6d2c-b7b7-49fb-b2f4-d8d71fdd2c5d"
      },
      "execution_count": 20,
      "outputs": [
        {
          "output_type": "stream",
          "name": "stdout",
          "text": [
            "(10:[6, 10, 4, 5, 1, 2])\n",
            "[6, 10, 4, 5, 1, 2]\n",
            "(4:[4, 6, 10, 5, 1, 2])\n",
            "[4, 6, 10, 5, 1, 2]\n",
            "(5:[4, 5, 6, 10, 1, 2])\n",
            "[4, 5, 6, 10, 1, 2]\n",
            "(1:[1, 4, 5, 6, 10, 2])\n",
            "[1, 4, 5, 6, 10, 2]\n",
            "(2:[1, 2, 4, 5, 6, 10])\n",
            "[1, 2, 4, 5, 6, 10]\n",
            "12\n"
          ]
        }
      ]
    },
    {
      "cell_type": "code",
      "source": [
        "#degree aray\n",
        "#смысл - считать степень - кол-во соседей\n",
        "#edges cписок ребер представленных кортежами (вершина u, вершина v).\n",
        "#num_nodes количество вершин\n",
        "def degree_of_nodes(edges, num_nodes):\n",
        "  degrees = [0] * num_nodes  # список степеней нули\n",
        "\n",
        "  for u, v in edges:\n",
        "    # Каждое ребро увеличивает степень обеих вершин на 1\n",
        "    degrees[u-1] += 1\n",
        "    degrees[v-1] += 1\n",
        "\n",
        "  return degrees\n",
        "\n",
        "\n",
        "num_nodes = 8\n",
        "edges = [\n",
        "  (6 , 7),\n",
        "  (1 , 2),\n",
        "  (2 , 3),\n",
        "  (6 , 3),\n",
        "  (5 , 6),\n",
        "  (2 , 5),\n",
        "  (2 , 4),\n",
        "  (4 , 1)\n",
        "]\n",
        "\n",
        "degrees = degree_of_nodes(edges, num_nodes)\n",
        "print(degrees)\n"
      ],
      "metadata": {
        "colab": {
          "base_uri": "https://localhost:8080/"
        },
        "id": "C9tBedbHqcVZ",
        "outputId": "61d465e9-4cdd-482f-91dd-8fef839aad51"
      },
      "execution_count": 16,
      "outputs": [
        {
          "output_type": "stream",
          "name": "stdout",
          "text": [
            "[2, 4, 2, 2, 2, 3, 1, 0]\n"
          ]
        }
      ]
    }
  ]
}